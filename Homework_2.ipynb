{
 "cells": [
  {
   "cell_type": "markdown",
   "id": "2c829e75",
   "metadata": {},
   "source": [
    "Question 1: Begin (or restart) part \"3(a)\" of the TUT Demo and interact with a ChatBot to make sure you understand how each part the Monte Hall problem code above works"
   ]
  },
  {
   "cell_type": "code",
   "execution_count": null,
   "id": "c0f1eb85",
   "metadata": {},
   "outputs": [],
   "source": [
    "#I will add the explamation for the code as comments \n",
    "\n",
    "import numpy as np\n",
    "all_door_options = (1,2,3)  # tuple but we will be turning this into a list \n",
    "my_door_choice = 1  # 1,2,3\n",
    "i_won = 0 #hard coded the door we have chosen.\n",
    "\n",
    "reps = 100000 #the number of times we are going to run thoriugh this code to get a dependable probabilistic trend. \n",
    "for i in range(reps):\n",
    "    secret_winning_door = np.random.choice(all_door_options) #choose one fo the doors to be the secret winning door\n",
    "    all_door_options_list = list(all_door_options) #converted from tuple to list as list can be modified. \n",
    "    # take the secret_winning_door, so we don't show it as a \"goat\" losing door\n",
    "    all_door_options_list.remove(secret_winning_door) #we remove the secret door to prepare for the next step\n",
    "    # in which we simulate the host revealing one fo the 'goat' doors. \n",
    "    \n",
    "    try:\n",
    "        # if my_door_choice was secret_winning_door then it's already removed\n",
    "        all_door_options_list.remove(my_door_choice) #we have to do a try except here as if we chose the correct \n",
    "        #door, there would be an error here as the door is already nmot in the set. \n",
    "    except:\n",
    "        pass # if we did. choose the right door, it will skip this step :)\n",
    "    \n",
    "    # show a \"goat\" losing door and remove it\n",
    "    goat_door_reveal = np.random.choice(all_door_options_list) #shows one of the goat doors. We are sure this is a\n",
    "    #goast door as the real one is already removed. \n",
    "    \n",
    "    all_door_options_list.remove(goat_door_reveal) #that door is now removed. \n",
    "\n",
    "    # put the secret_winning_door back in if it wasn't our choice\n",
    "    \n",
    "    # we previously removed it, so it would be shown as a  \"goat\" losing door\n",
    "    if secret_winning_door != my_door_choice:\n",
    "        all_door_options_list.append(secret_winning_door) #this is onl if we lost. \n",
    "        \n",
    "    # if secret_winning_door was our choice then all that's left in the list is a \"goat\" losing door\n",
    "    # if secret_winning_door wasn't our choice then it's all that will be left in the list\n",
    "\n",
    "    # swap strategy\n",
    "    my_door_choice = all_door_options_list[0]\n",
    "\n",
    "    if my_door_choice == secret_winning_door:\n",
    "        i_won += 1 #add one to the score.\n",
    "\n",
    "i_won/reps  #basic probability formula. "
   ]
  },
  {
   "cell_type": "markdown",
   "id": "db311745",
   "metadata": {},
   "source": [
    "Q2: Extend your ChatBot sessions to now address part \"3(b)\" of the TUT Demo and interact with your ChatBot to see if it can suggest a simpler, more streamlined way to code up this for loop simulation so the process is more clear and easier to understand; then, describe any preferences you have in terms of readibility"
   ]
  },
  {
   "cell_type": "code",
   "execution_count": null,
   "id": "6d76ec08",
   "metadata": {},
   "outputs": [],
   "source": [
    "import numpy as np\n",
    "\n",
    "def simulate_monty_hall(reps=100000):\n",
    "    all_door_options = (1, 2, 3)\n",
    "    my_initial_choice = 1\n",
    "    wins = 0\n",
    "    \n",
    "    for _ in range(reps):\n",
    "        secret_winning_door = np.random.choice(all_door_options)\n",
    "        remaining_doors = get_remaining_doors(secret_winning_door, my_initial_choice)\n",
    "        goat_door_reveal = np.random.choice(remaining_doors)\n",
    "        final_choice = switch_door(all_door_options, goat_door_reveal, my_initial_choice)\n",
    "        \n",
    "        if final_choice == secret_winning_door:\n",
    "            wins += 1\n",
    "    \n",
    "    return wins / reps\n",
    "\n",
    "def get_remaining_doors(secret_winning_door, my_initial_choice):\n",
    "    \"\"\"Removes the winning door and the player's choice (if possible) from the door options.\"\"\"\n",
    "    remaining_doors = list((1, 2, 3))\n",
    "    remaining_doors.remove(secret_winning_door)\n",
    "    \n",
    "    if my_initial_choice in remaining_doors:\n",
    "        remaining_doors.remove(my_initial_choice)\n",
    "    \n",
    "    return remaining_doors\n",
    "\n",
    "def switch_door(all_door_options, goat_door, initial_choice):\n",
    "    \"\"\"Simulates switching the door after revealing a goat door.\"\"\"\n",
    "    return [door for door in all_door_options if door != goat_door and door != initial_choice][0]\n",
    "\n",
    "# Run the simulation\n",
    "winning_probability = simulate_monty_hall()\n",
    "print(f\"Winning probability when switching: {winning_probability:.4f}\")"
   ]
  },
  {
   "cell_type": "markdown",
   "id": "3ea8e1ad",
   "metadata": {},
   "source": [
    "My preference was actually the first one. I believe that the usage of multiple functions, albeit increasing readibility, makes the code much longer than necessary. There's multiple if statements which could be reduced down to one line comprehensions. \n",
    "\n",
    "chatbot link: https://chatgpt.com/share/66e8fdbe-41c8-8004-9671-a108328bb854\n"
   ]
  },
  {
   "cell_type": "code",
   "execution_count": 1,
   "id": "e9005020",
   "metadata": {},
   "outputs": [
    {
     "data": {
      "text/plain": [
       "0.66754"
      ]
     },
     "execution_count": 1,
     "metadata": {},
     "output_type": "execute_result"
    }
   ],
   "source": [
    "#answer to question 3: I like this one better: comments already added\n",
    "#I will add the explamation for the code as comments \n",
    "\n",
    "import numpy as np\n",
    "all_door_options = (1,2,3)  # tuple but we will be turning this into a list \n",
    "my_door_choice = 1  # 1,2,3\n",
    "i_won = 0 #hard coded the door we have chosen.\n",
    "\n",
    "reps = 100000 #the number of times we are going to run thoriugh this code to get a dependable probabilistic trend. \n",
    "for i in range(reps):\n",
    "    secret_winning_door = np.random.choice(all_door_options) #choose one fo the doors to be the secret winning door\n",
    "    all_door_options_list = list(all_door_options) #converted from tuple to list as list can be modified. \n",
    "    # take the secret_winning_door, so we don't show it as a \"goat\" losing door\n",
    "    all_door_options_list.remove(secret_winning_door) #we remove the secret door to prepare for the next step\n",
    "    # in which we simulate the host revealing one fo the 'goat' doors. \n",
    "    \n",
    "    try:\n",
    "        # if my_door_choice was secret_winning_door then it's already removed\n",
    "        all_door_options_list.remove(my_door_choice) #we have to do a try except here as if we chose the correct \n",
    "        #door, there would be an error here as the door is already nmot in the set. \n",
    "    except:\n",
    "        pass # if we did. choose the right door, it will skip this step :)\n",
    "    \n",
    "    # show a \"goat\" losing door and remove it\n",
    "    goat_door_reveal = np.random.choice(all_door_options_list) #shows one of the goat doors. We are sure this is a\n",
    "    #goast door as the real one is already removed. \n",
    "    \n",
    "    all_door_options_list.remove(goat_door_reveal) #that door is now removed. \n",
    "\n",
    "    # put the secret_winning_door back in if it wasn't our choice\n",
    "    \n",
    "    # we previously removed it, so it would be shown as a  \"goat\" losing door\n",
    "    if secret_winning_door != my_door_choice:\n",
    "        all_door_options_list.append(secret_winning_door) #this is onl if we lost. \n",
    "        \n",
    "    # if secret_winning_door was our choice then all that's left in the list is a \"goat\" losing door\n",
    "    # if secret_winning_door wasn't our choice then it's all that will be left in the list\n",
    "\n",
    "    # swap strategy\n",
    "    my_door_choice = all_door_options_list[0]\n",
    "\n",
    "    if my_door_choice == secret_winning_door:\n",
    "        i_won += 1 #add one to the score.\n",
    "\n",
    "i_won/reps  #basic probability formula. \n",
    "\n",
    "\n",
    "#output -> 0.66754\n"
   ]
  },
  {
   "cell_type": "markdown",
   "id": "84acf254",
   "metadata": {},
   "source": [
    "Question 4: Chatbot link: https://chatgpt.com/share/66e8fdf6-37ec-8004-8c71-492f8694c7d0\n",
    "\n",
    "Here is my understanding of the code algorithm\n",
    "This code essentially implements a basic Markov chain model to generate text based on the frequency of word sequences. \n",
    "\n",
    "The main parts of the code: \n",
    "\n",
    "Markov Chain: A statistical model where the next state (in this case, the next word) depends only on the current state (the current word). The chatbot builds a Markov chain by analyzing the order in which words appear and tracking how often one word follows another.\n",
    "\n",
    "\n",
    "How It Works:\n",
    "\n",
    "Variables Initialization:\n",
    "word_used: A dictionary that keeps track of how many times each word appears.\n",
    "next_word: A dictionary of dictionaries, where each word points to another dictionary that counts how often certain words follow it.\n",
    "\n",
    "Main Loop:\n",
    "The code iterates over a list of words (excluding the last word).\n",
    "For each word, it updates the word_used count and creates or updates the next_word dictionary to track which word follows it, and how often.\n",
    "\n",
    "Example: If the input sequence is ['hello', 'world', 'hello', 'there', 'world']:\n",
    "The first 'hello' would add {'world': 1} to the next_word dictionary, because 'world' follows 'hello'.\n",
    "Then, 'world' would be followed by {'hello': 1}, and so on, building a chain of word transitions.\n",
    "Why It Matters:\n",
    "The chatbot uses these word pairings to create a model of how words are likely to follow each other, allowing it to generate text by selecting words based on their probability of occurring after the current word.\n",
    "\n",
    "This forms the basis for generating new text, as the model can \"predict\" the next word based on the learned patterns in the training text."
   ]
  },
  {
   "cell_type": "markdown",
   "id": "a5971727",
   "metadata": {},
   "source": [
    "question 5: Recreate (or resume) the previous ChatBot session from question \"4\" above, and now prompt the ChatBot session that you have a couple extensions of the code to show it, and then show it each of the extentions of the \"Markovian ChatBot code\" below in turn"
   ]
  },
  {
   "cell_type": "markdown",
   "id": "a83bc3fc",
   "metadata": {},
   "source": [
    "5.1: Without just supplying your ChatBot session with the answers, see if the ChatBot can figure out what the extensions in the code do; namely, making character specific Markov chains, and using bigrams (rather than justthe previous word alone) dependency... prompt your ChatBot session with some hints if it's not seeming to \"get it\"\n",
    "-> The chatbot understood the role of both the extnesions without any need of guidance and help. \n",
    "\n",
    "5.2: Interact with your ChatBot session to have it explain details of the code wherever you need help understanding what the code is doing and how it works. I now understand the use of the line\n",
    "next_word[word][words[i+1]] += 1\n",
    "which took a but to get but now I understand the role of the chatbot \n",
    "\n",
    "for the bigram, next_word2 = defaultdict(lambda: defaultdict(int)) is a bit too challening to understand for now as far as the technicalities of it are concerned but I was able to understand its function, which is to create 2 nested dictionaries, with each dict unsing its prior word as a key in the 3 word system.  This extension looks at two-word sequences (bigrams) and predicts the word that follows, which helps the chatbot generate more natural and coherent responses by considering larger chunks of text.\n",
    "\n",
    "zfor the second extension. I understand everything but the code line nested_dict = lambda: defaultdict(nested_dict)\n",
    "I do not fully understand the use of lambda functions. But trying to understand this line of code would take me down a massive rabbit hole and I'd want to avoid that as of now. This was a bit hard to understand. "
   ]
  },
  {
   "cell_type": "markdown",
   "id": "56d26a08",
   "metadata": {},
   "source": [
    "Answer 6: Interacting with the ChatBot for understanding the Monty Hall problem and the \"Markovian ChatBot\" code was generally a smooth experience, with the bot responding quickly and effectively to each question. For the Monty Hall problem, the ChatBot’s explanations were clear and concise, offering useful examples to make the solution more intuitive. It didn’t take long for it to break down the logic and address common misconceptions, which helped solidify my understanding. In the case of the \"Markovian ChatBot\" code, the ChatBot was similarly prompt and detailed in walking through each part of the code, explaining the purpose of each line and structure in a digestible manner. It was particularly good at clarifying how the Markov chain and word prediction system worked, even when the code got more complex with extensions.\n",
    "\n",
    "While the interactions were generally helpful, there were moments where figuring out more complex coding extensions felt slightly slower due to the depth required in explanation. However, the ChatBot was consistent in adapting to the level of detail needed, which made the process less frustrating than it could have been. It provided logical explanations, step-by-step, avoiding overwhelming technical jargon. Overall, based on these interactions and previous experiences troubleshooting coding errors, the ChatBot has proven to be a valuable tool for understanding both concepts and debugging code. Its ability to quickly clarify and simplify coding structures makes it a useful resource, especially when dealing with complex problems that would otherwise take more time to resolve manually."
   ]
  },
  {
   "cell_type": "markdown",
   "id": "5877dfc1",
   "metadata": {},
   "source": [
    "answer 7: Since I started interacting with the ChatBot and delving deeper into AI-driven assistance tools, my perception of their role in learning coding, statistics, and data science has definitely evolved. Initially, I saw these tools as supplementary—helpful but not essential. Over time, however, I’ve come to realize just how pivotal they can be for enhancing understanding and speeding up problem-solving.\n",
    "\n",
    "When I first began, I would primarily use AI tools to clarify concepts I struggled with or get quick code fixes. Now, I see them as much more interactive, almost like having a tutor who can guide me through complex ideas step by step. The ability to not just get answers, but explanations and breakdowns of how things work, has transformed how I approach learning. It feels more dynamic and less like an isolated experience, which has been particularly helpful in coding and data science, where small gaps in understanding can make a big difference lol"
   ]
  }
 ],
 "metadata": {
  "kernelspec": {
   "display_name": "Python 3 (ipykernel)",
   "language": "python",
   "name": "python3"
  },
  "language_info": {
   "codemirror_mode": {
    "name": "ipython",
    "version": 3
   },
   "file_extension": ".py",
   "mimetype": "text/x-python",
   "name": "python",
   "nbconvert_exporter": "python",
   "pygments_lexer": "ipython3",
   "version": "3.11.6"
  }
 },
 "nbformat": 4,
 "nbformat_minor": 5
}
