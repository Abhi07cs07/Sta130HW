{
 "cells": [
  {
   "cell_type": "markdown",
   "id": "3f2c8a7c",
   "metadata": {},
   "source": [
    "Analysis 1:\n",
    "Research Question: Does having close friends with similar political and religious beliefs influence the number of close friends individuals report?\n",
    "\n",
    "Proposal: This analysis examines how shared beliefs (political and religious) impact the number of close friends, addressing the potential role of ideological alignment in social bonding. By analyzing the relationship between belief alignment and social network size, we get to know if people are more likely to form closer bonds with those who share similar values. \n",
    "\n",
    "Variables:\n",
    "Percent of close friends with similar political beliefs: A categorical variable (0-100%, broken into 5 categories) indicating the extent of political alignment among close friends.\n",
    "Percent of close friends with similar religious beliefs: Another categorical variable (0-100%, broken into 5 categories) for religious alignment.\n",
    "Number of close friends: A categorical outcome with values ranging from 1 to 5 or more, representing the size of one’s close social circle.\n",
    "These variables provide a basis for examining whether alignment in beliefs correlates with the number of close friends. Box plots of friend counts across both alignment categories will highlight group differences, while bar plots showcase distribution patterns. Both visualizations will help illustrate any trends between ideological similarity and social circle size effectively.\n",
    "\n",
    "Analysis: A two-way Analysis of Variance(ANOVA) will be used to evaluate if the degree of alignment in beliefs influences the reported number of close friends. It’s appropriate for comparing means across the categorical groups of political and religious alignment and for analyzing interaction effects. The assumptions of normality and equal variances will be checked, as they are essential for accurate ANOVA results. Post-hoc tests may follow if significant differences are found.\n",
    "\n",
    "Hypothesis: I think that individuals with high alignment in political and religious beliefs will report a greater number of close friends, suggesting shared beliefs enhance social bonds. This outcome would provide insights into the social dynamics of value alignment and friendship formation. \n",
    "\n",
    "\n",
    "Analysis 2:\n",
    "Research Question: How does the frequency of social interactions impact self-reported mental health scores, controlling for factors like age and relationship status?\n",
    "\n",
    "Variables\n",
    "Dependent Variable: Self-reported mental health score (column in ds).\n",
    "Independent Variable: Frequency of social interactions, potentially converted to a numerical scale if categorical(column: relationships_identiity person 1-10)\n",
    "Control: age and relationship status will be controlled for, as these variables could influence mental health scores.\n",
    "\n",
    "Visualization: We could create a box plot to compare mental health scores across different social interaction frequencies, segmented by relationship status. We could also generate a scatter plot with a regression line to visualize the linear relationship between social interaction frequency and mental health scores. The scatter plot with a regression line will allow a quick visual grasp of the relationship, while the box plot segmented by relationship status reveals variability by group.\n",
    "\n",
    "Statistical Analysis:  A way to go about this would be to Calculate the correlation coefficient between social interaction frequency and mental health scores to initially assess the strength of the relationship. We can then run a regression model to quantify the impact of social interaction frequency on mental health scores. We then Interpret Coefficients, that is, we assess the direction and significance of the coefficients to understand the effect of social interactions on mental health, while accounting for age and relationship status. In the context of a regression analysis, controlling for variables like age and relationship status means including them as predictor variables in the regression model. This analysis assumes a linear relationship between social interaction frequency and mental health scores, with no multicollinearity issues between the independent and control variables.\n",
    "\n",
    "Hypothesis: I hypothesize that higher social interaction frequency will correlate with improved self-reported mental health scores. This would suggest that increased social engagement is beneficial to mental well-being, independent of demographic factors. These results, if observed, would align with existing literature on the positive effects of social connectivity.\n",
    "\n",
    "\n",
    "Analysis 3:\n",
    "Research Question: Is there a significant difference in the average life satisfaction between individuals who frequently participate in group exercise activities and those who do not?\n",
    "\n",
    "Variables:\n",
    "Dependent Variable: Life satisfaction score (on a scale of 1-10)(WELLNESS_life_satisfaction is the column we’ll refer to) \n",
    "Independent Variable: Participation in group exercise activities. I will categorize individuals as \"frequent participants\" if they have participated in group exercise at least once and as \"non-participants\" otherwise.\n",
    "I have chosen these variables because group exercise has been linked to various mental and physical health benefits. This analysis could highlight whether group exercise is associated with higher life satisfaction. \n",
    "\n",
    "Visualization: To illustrate the difference in life satisfaction scores between frequent participants and non-participants, a box plot will provide a visual summary of the central tendencies and spread within each group. Additionally, a histogram with KDE (kernel density estimation) overlays will display the distribution of life satisfaction scores for each group, helping us understand any differences in shape or variability.\n",
    "Statistical Analysis: Using bootstrapping, we’ll estimate the mean life satisfaction difference between the groups. We’ll first  generate bootstrap samples to estimate group means. Then after calculating the mean difference across samples, we’ll carry a hypothesis test. Null Hypothesis would mean no difference in average life satisfaction while the Alternative Hypothesis would be that a difference exists.Bootstrapping provides confidence intervals and p-values without assuming normality, using independent observations.\n",
    "\n",
    "Hypothesis: I hypothesize that frequent participants will report higher life satisfaction. If confirmed, this would suggest that group exercise benefits mental well-being, supporting initiatives promoting it as a mental health intervention."
   ]
  }
 ],
 "metadata": {
  "kernelspec": {
   "display_name": "Python 3 (ipykernel)",
   "language": "python",
   "name": "python3"
  },
  "language_info": {
   "codemirror_mode": {
    "name": "ipython",
    "version": 3
   },
   "file_extension": ".py",
   "mimetype": "text/x-python",
   "name": "python",
   "nbconvert_exporter": "python",
   "pygments_lexer": "ipython3",
   "version": "3.11.6"
  }
 },
 "nbformat": 4,
 "nbformat_minor": 5
}
